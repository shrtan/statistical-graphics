{
 "cells": [
  {
   "cell_type": "code",
   "execution_count": 19,
   "metadata": {},
   "outputs": [],
   "source": [
    "library(tidyverse)\n",
    "library(ggplot2)\n",
    "library(stringr)"
   ]
  },
  {
   "cell_type": "code",
   "execution_count": 7,
   "metadata": {},
   "outputs": [
    {
     "data": {
      "text/html": [
       "<table>\n",
       "<thead><tr><th scope=col>Data_Month_Date</th><th scope=col>Country</th><th scope=col>HB_Treatment_Description</th><th scope=col>Treatment_Location_Code</th><th scope=col>Treatment_Location_Name</th><th scope=col>ED_MIU</th><th scope=col>Number_Of_Attendances_agg</th><th scope=col>Number_of_Attendances_Epi</th><th scope=col>Number_Meeting_Target_agg</th><th scope=col>Number_Meeting_Target_epi</th><th scope=col>Discharge_destination_admission_to_same</th><th scope=col>Discharge_destination_other_spec</th><th scope=col>Discharge_destination_residence</th><th scope=col>Discharge_destination_transfer</th><th scope=col>Discharge_destination_unknown</th><th scope=col>Attendance_greater_8hrs</th><th scope=col>Attendances_greater_12hrs</th></tr></thead>\n",
       "<tbody>\n",
       "\t<tr><td>Jul-07                                                                     </td><td>NHS Scotland                                                               </td><td>NHS Ayrshire &amp; Arran                                                   </td><td>A101H                                                                      </td><td><span style=white-space:pre-wrap>Arran War Memorial Hospital        </span></td><td>MIU/Other                                                                  </td><td> 252                                                                       </td><td><span style=white-space:pre-wrap>  NA</span>                               </td><td> 252                                                                       </td><td><span style=white-space:pre-wrap>  NA</span>                               </td><td><span style=white-space:pre-wrap>  NA</span>                               </td><td>NA                                                                         </td><td><span style=white-space:pre-wrap>  NA</span>                               </td><td>NA                                                                         </td><td>NA                                                                         </td><td>NA                                                                         </td><td>NA                                                                         </td></tr>\n",
       "\t<tr><td>Jul-07                                           </td><td>NHS Scotland                                     </td><td>NHS Ayrshire &amp; Arran                         </td><td>A111H                                            </td><td>University Hospital Crosshouse - ED              </td><td><span style=white-space:pre-wrap>ED       </span></td><td>5414                                             </td><td>5414                                             </td><td>5290                                             </td><td>5290                                             </td><td>1985                                             </td><td>11                                               </td><td>3374                                             </td><td>44                                               </td><td> 0                                               </td><td>26                                               </td><td>24                                               </td></tr>\n",
       "\t<tr><td>Jul-07                                                                     </td><td>NHS Scotland                                                               </td><td>NHS Ayrshire &amp; Arran                                                   </td><td>A207H                                                                      </td><td><span style=white-space:pre-wrap>Davidson Cottage Hospital          </span></td><td>MIU/Other                                                                  </td><td><span style=white-space:pre-wrap>  92</span>                               </td><td><span style=white-space:pre-wrap>  NA</span>                               </td><td><span style=white-space:pre-wrap>  92</span>                               </td><td><span style=white-space:pre-wrap>  NA</span>                               </td><td><span style=white-space:pre-wrap>  NA</span>                               </td><td>NA                                                                         </td><td><span style=white-space:pre-wrap>  NA</span>                               </td><td>NA                                                                         </td><td>NA                                                                         </td><td>NA                                                                         </td><td>NA                                                                         </td></tr>\n",
       "\t<tr><td>Jul-07                                                                     </td><td>NHS Scotland                                                               </td><td>NHS Ayrshire &amp; Arran                                                   </td><td>A210H                                                                      </td><td><span style=white-space:pre-wrap>University Hospital Ayr - ED       </span></td><td><span style=white-space:pre-wrap>ED       </span>                          </td><td>3530                                                                       </td><td>3530                                                                       </td><td>3355                                                                       </td><td>3355                                                                       </td><td> 106                                                                       </td><td> 0                                                                         </td><td>3369                                                                       </td><td> 8                                                                         </td><td>47                                                                         </td><td> 3                                                                         </td><td> 1                                                                         </td></tr>\n",
       "\t<tr><td>Jul-07                             </td><td>NHS Scotland                       </td><td>NHS Borders                        </td><td>B103H                              </td><td>Knoll Community Hospital           </td><td>MIU/Other                          </td><td>  20                               </td><td>  NA                               </td><td>  20                               </td><td>  NA                               </td><td>  NA                               </td><td>NA                                 </td><td>  NA                               </td><td>NA                                 </td><td>NA                                 </td><td>NA                                 </td><td>NA                                 </td></tr>\n",
       "\t<tr><td>Jul-07                             </td><td>NHS Scotland                       </td><td>NHS Borders                        </td><td>B105H                              </td><td>Hawick Community  Hospital         </td><td>MIU/Other                          </td><td> 105                               </td><td>  NA                               </td><td> 105                               </td><td>  NA                               </td><td>  NA                               </td><td>NA                                 </td><td>  NA                               </td><td>NA                                 </td><td>NA                                 </td><td>NA                                 </td><td>NA                                 </td></tr>\n",
       "</tbody>\n",
       "</table>\n"
      ],
      "text/latex": [
       "\\begin{tabular}{r|lllllllllllllllll}\n",
       " Data\\_Month\\_Date & Country & HB\\_Treatment\\_Description & Treatment\\_Location\\_Code & Treatment\\_Location\\_Name & ED\\_MIU & Number\\_Of\\_Attendances\\_agg & Number\\_of\\_Attendances\\_Epi & Number\\_Meeting\\_Target\\_agg & Number\\_Meeting\\_Target\\_epi & Discharge\\_destination\\_admission\\_to\\_same & Discharge\\_destination\\_other\\_spec & Discharge\\_destination\\_residence & Discharge\\_destination\\_transfer & Discharge\\_destination\\_unknown & Attendance\\_greater\\_8hrs & Attendances\\_greater\\_12hrs\\\\\n",
       "\\hline\n",
       "\t Jul-07                              & NHS Scotland                        & NHS Ayrshire \\& Arran              & A101H                               & Arran War Memorial Hospital         & MIU/Other                           &  252                                &   NA                                &  252                                &   NA                                &   NA                                & NA                                  &   NA                                & NA                                  & NA                                  & NA                                  & NA                                 \\\\\n",
       "\t Jul-07                              & NHS Scotland                        & NHS Ayrshire \\& Arran              & A111H                               & University Hospital Crosshouse - ED & ED                                  & 5414                                & 5414                                & 5290                                & 5290                                & 1985                                & 11                                  & 3374                                & 44                                  &  0                                  & 26                                  & 24                                 \\\\\n",
       "\t Jul-07                              & NHS Scotland                        & NHS Ayrshire \\& Arran              & A207H                               & Davidson Cottage Hospital           & MIU/Other                           &   92                                &   NA                                &   92                                &   NA                                &   NA                                & NA                                  &   NA                                & NA                                  & NA                                  & NA                                  & NA                                 \\\\\n",
       "\t Jul-07                              & NHS Scotland                        & NHS Ayrshire \\& Arran              & A210H                               & University Hospital Ayr - ED        & ED                                  & 3530                                & 3530                                & 3355                                & 3355                                &  106                                &  0                                  & 3369                                &  8                                  & 47                                  &  3                                  &  1                                 \\\\\n",
       "\t Jul-07                              & NHS Scotland                        & NHS Borders                         & B103H                               & Knoll Community Hospital            & MIU/Other                           &   20                                &   NA                                &   20                                &   NA                                &   NA                                & NA                                  &   NA                                & NA                                  & NA                                  & NA                                  & NA                                 \\\\\n",
       "\t Jul-07                              & NHS Scotland                        & NHS Borders                         & B105H                               & Hawick Community  Hospital          & MIU/Other                           &  105                                &   NA                                &  105                                &   NA                                &   NA                                & NA                                  &   NA                                & NA                                  & NA                                  & NA                                  & NA                                 \\\\\n",
       "\\end{tabular}\n"
      ],
      "text/markdown": [
       "\n",
       "| Data_Month_Date | Country | HB_Treatment_Description | Treatment_Location_Code | Treatment_Location_Name | ED_MIU | Number_Of_Attendances_agg | Number_of_Attendances_Epi | Number_Meeting_Target_agg | Number_Meeting_Target_epi | Discharge_destination_admission_to_same | Discharge_destination_other_spec | Discharge_destination_residence | Discharge_destination_transfer | Discharge_destination_unknown | Attendance_greater_8hrs | Attendances_greater_12hrs |\n",
       "|---|---|---|---|---|---|---|---|---|---|---|---|---|---|---|---|---|\n",
       "| Jul-07                              | NHS Scotland                        | NHS Ayrshire & Arran                | A101H                               | Arran War Memorial Hospital         | MIU/Other                           |  252                                |   NA                                |  252                                |   NA                                |   NA                                | NA                                  |   NA                                | NA                                  | NA                                  | NA                                  | NA                                  |\n",
       "| Jul-07                              | NHS Scotland                        | NHS Ayrshire & Arran                | A111H                               | University Hospital Crosshouse - ED | ED                                  | 5414                                | 5414                                | 5290                                | 5290                                | 1985                                | 11                                  | 3374                                | 44                                  |  0                                  | 26                                  | 24                                  |\n",
       "| Jul-07                              | NHS Scotland                        | NHS Ayrshire & Arran                | A207H                               | Davidson Cottage Hospital           | MIU/Other                           |   92                                |   NA                                |   92                                |   NA                                |   NA                                | NA                                  |   NA                                | NA                                  | NA                                  | NA                                  | NA                                  |\n",
       "| Jul-07                              | NHS Scotland                        | NHS Ayrshire & Arran                | A210H                               | University Hospital Ayr - ED        | ED                                  | 3530                                | 3530                                | 3355                                | 3355                                |  106                                |  0                                  | 3369                                |  8                                  | 47                                  |  3                                  |  1                                  |\n",
       "| Jul-07                              | NHS Scotland                        | NHS Borders                         | B103H                               | Knoll Community Hospital            | MIU/Other                           |   20                                |   NA                                |   20                                |   NA                                |   NA                                | NA                                  |   NA                                | NA                                  | NA                                  | NA                                  | NA                                  |\n",
       "| Jul-07                              | NHS Scotland                        | NHS Borders                         | B105H                               | Hawick Community  Hospital          | MIU/Other                           |  105                                |   NA                                |  105                                |   NA                                |   NA                                | NA                                  |   NA                                | NA                                  | NA                                  | NA                                  | NA                                  |\n",
       "\n"
      ],
      "text/plain": [
       "  Data_Month_Date Country      HB_Treatment_Description Treatment_Location_Code\n",
       "1 Jul-07          NHS Scotland NHS Ayrshire & Arran     A101H                  \n",
       "2 Jul-07          NHS Scotland NHS Ayrshire & Arran     A111H                  \n",
       "3 Jul-07          NHS Scotland NHS Ayrshire & Arran     A207H                  \n",
       "4 Jul-07          NHS Scotland NHS Ayrshire & Arran     A210H                  \n",
       "5 Jul-07          NHS Scotland NHS Borders              B103H                  \n",
       "6 Jul-07          NHS Scotland NHS Borders              B105H                  \n",
       "  Treatment_Location_Name             ED_MIU    Number_Of_Attendances_agg\n",
       "1 Arran War Memorial Hospital         MIU/Other  252                     \n",
       "2 University Hospital Crosshouse - ED ED        5414                     \n",
       "3 Davidson Cottage Hospital           MIU/Other   92                     \n",
       "4 University Hospital Ayr - ED        ED        3530                     \n",
       "5 Knoll Community Hospital            MIU/Other   20                     \n",
       "6 Hawick Community  Hospital          MIU/Other  105                     \n",
       "  Number_of_Attendances_Epi Number_Meeting_Target_agg Number_Meeting_Target_epi\n",
       "1   NA                       252                        NA                     \n",
       "2 5414                      5290                      5290                     \n",
       "3   NA                        92                        NA                     \n",
       "4 3530                      3355                      3355                     \n",
       "5   NA                        20                        NA                     \n",
       "6   NA                       105                        NA                     \n",
       "  Discharge_destination_admission_to_same Discharge_destination_other_spec\n",
       "1   NA                                    NA                              \n",
       "2 1985                                    11                              \n",
       "3   NA                                    NA                              \n",
       "4  106                                     0                              \n",
       "5   NA                                    NA                              \n",
       "6   NA                                    NA                              \n",
       "  Discharge_destination_residence Discharge_destination_transfer\n",
       "1   NA                            NA                            \n",
       "2 3374                            44                            \n",
       "3   NA                            NA                            \n",
       "4 3369                             8                            \n",
       "5   NA                            NA                            \n",
       "6   NA                            NA                            \n",
       "  Discharge_destination_unknown Attendance_greater_8hrs\n",
       "1 NA                            NA                     \n",
       "2  0                            26                     \n",
       "3 NA                            NA                     \n",
       "4 47                             3                     \n",
       "5 NA                            NA                     \n",
       "6 NA                            NA                     \n",
       "  Attendances_greater_12hrs\n",
       "1 NA                       \n",
       "2 24                       \n",
       "3 NA                       \n",
       "4  1                       \n",
       "5 NA                       \n",
       "6 NA                       "
      ]
     },
     "metadata": {},
     "output_type": "display_data"
    }
   ],
   "source": [
    "hos <- suppressMessages(read_csv(\"hosp.csv\"))\n",
    "head(hos)"
   ]
  },
  {
   "cell_type": "code",
   "execution_count": 22,
   "metadata": {},
   "outputs": [],
   "source": [
    "hos_df <- hos %>% \n",
    "            mutate(Year = str_sub(Data_Month_Date, -2, -1))\n",
    "\n",
    "hos_df$"
   ]
  },
  {
   "cell_type": "code",
   "execution_count": 23,
   "metadata": {},
   "outputs": [
    {
     "data": {
      "text/html": [
       "<table>\n",
       "<thead><tr><th scope=col>Data_Month_Date</th><th scope=col>Country</th><th scope=col>HB_Treatment_Description</th><th scope=col>Treatment_Location_Code</th><th scope=col>Treatment_Location_Name</th><th scope=col>ED_MIU</th><th scope=col>Number_Of_Attendances_agg</th><th scope=col>Number_of_Attendances_Epi</th><th scope=col>Number_Meeting_Target_agg</th><th scope=col>Number_Meeting_Target_epi</th><th scope=col>Discharge_destination_admission_to_same</th><th scope=col>Discharge_destination_other_spec</th><th scope=col>Discharge_destination_residence</th><th scope=col>Discharge_destination_transfer</th><th scope=col>Discharge_destination_unknown</th><th scope=col>Attendance_greater_8hrs</th><th scope=col>Attendances_greater_12hrs</th><th scope=col>Year</th></tr></thead>\n",
       "<tbody>\n",
       "\t<tr><td>Jul-07                                                                     </td><td>NHS Scotland                                                               </td><td>NHS Ayrshire &amp; Arran                                                   </td><td>A101H                                                                      </td><td><span style=white-space:pre-wrap>Arran War Memorial Hospital        </span></td><td>MIU/Other                                                                  </td><td> 252                                                                       </td><td><span style=white-space:pre-wrap>  NA</span>                               </td><td> 252                                                                       </td><td><span style=white-space:pre-wrap>  NA</span>                               </td><td><span style=white-space:pre-wrap>  NA</span>                               </td><td>NA                                                                         </td><td><span style=white-space:pre-wrap>  NA</span>                               </td><td>NA                                                                         </td><td>NA                                                                         </td><td>NA                                                                         </td><td>NA                                                                         </td><td>07                                                                         </td></tr>\n",
       "\t<tr><td>Jul-07                                           </td><td>NHS Scotland                                     </td><td>NHS Ayrshire &amp; Arran                         </td><td>A111H                                            </td><td>University Hospital Crosshouse - ED              </td><td><span style=white-space:pre-wrap>ED       </span></td><td>5414                                             </td><td>5414                                             </td><td>5290                                             </td><td>5290                                             </td><td>1985                                             </td><td>11                                               </td><td>3374                                             </td><td>44                                               </td><td> 0                                               </td><td>26                                               </td><td>24                                               </td><td>07                                               </td></tr>\n",
       "\t<tr><td>Jul-07                                                                     </td><td>NHS Scotland                                                               </td><td>NHS Ayrshire &amp; Arran                                                   </td><td>A207H                                                                      </td><td><span style=white-space:pre-wrap>Davidson Cottage Hospital          </span></td><td>MIU/Other                                                                  </td><td><span style=white-space:pre-wrap>  92</span>                               </td><td><span style=white-space:pre-wrap>  NA</span>                               </td><td><span style=white-space:pre-wrap>  92</span>                               </td><td><span style=white-space:pre-wrap>  NA</span>                               </td><td><span style=white-space:pre-wrap>  NA</span>                               </td><td>NA                                                                         </td><td><span style=white-space:pre-wrap>  NA</span>                               </td><td>NA                                                                         </td><td>NA                                                                         </td><td>NA                                                                         </td><td>NA                                                                         </td><td>07                                                                         </td></tr>\n",
       "\t<tr><td>Jul-07                                                                     </td><td>NHS Scotland                                                               </td><td>NHS Ayrshire &amp; Arran                                                   </td><td>A210H                                                                      </td><td><span style=white-space:pre-wrap>University Hospital Ayr - ED       </span></td><td><span style=white-space:pre-wrap>ED       </span>                          </td><td>3530                                                                       </td><td>3530                                                                       </td><td>3355                                                                       </td><td>3355                                                                       </td><td> 106                                                                       </td><td> 0                                                                         </td><td>3369                                                                       </td><td> 8                                                                         </td><td>47                                                                         </td><td> 3                                                                         </td><td> 1                                                                         </td><td>07                                                                         </td></tr>\n",
       "\t<tr><td>Jul-07                             </td><td>NHS Scotland                       </td><td>NHS Borders                        </td><td>B103H                              </td><td>Knoll Community Hospital           </td><td>MIU/Other                          </td><td>  20                               </td><td>  NA                               </td><td>  20                               </td><td>  NA                               </td><td>  NA                               </td><td>NA                                 </td><td>  NA                               </td><td>NA                                 </td><td>NA                                 </td><td>NA                                 </td><td>NA                                 </td><td>07                                 </td></tr>\n",
       "\t<tr><td>Jul-07                             </td><td>NHS Scotland                       </td><td>NHS Borders                        </td><td>B105H                              </td><td>Hawick Community  Hospital         </td><td>MIU/Other                          </td><td> 105                               </td><td>  NA                               </td><td> 105                               </td><td>  NA                               </td><td>  NA                               </td><td>NA                                 </td><td>  NA                               </td><td>NA                                 </td><td>NA                                 </td><td>NA                                 </td><td>NA                                 </td><td>07                                 </td></tr>\n",
       "</tbody>\n",
       "</table>\n"
      ],
      "text/latex": [
       "\\begin{tabular}{r|llllllllllllllllll}\n",
       " Data\\_Month\\_Date & Country & HB\\_Treatment\\_Description & Treatment\\_Location\\_Code & Treatment\\_Location\\_Name & ED\\_MIU & Number\\_Of\\_Attendances\\_agg & Number\\_of\\_Attendances\\_Epi & Number\\_Meeting\\_Target\\_agg & Number\\_Meeting\\_Target\\_epi & Discharge\\_destination\\_admission\\_to\\_same & Discharge\\_destination\\_other\\_spec & Discharge\\_destination\\_residence & Discharge\\_destination\\_transfer & Discharge\\_destination\\_unknown & Attendance\\_greater\\_8hrs & Attendances\\_greater\\_12hrs & Year\\\\\n",
       "\\hline\n",
       "\t Jul-07                              & NHS Scotland                        & NHS Ayrshire \\& Arran              & A101H                               & Arran War Memorial Hospital         & MIU/Other                           &  252                                &   NA                                &  252                                &   NA                                &   NA                                & NA                                  &   NA                                & NA                                  & NA                                  & NA                                  & NA                                  & 07                                 \\\\\n",
       "\t Jul-07                              & NHS Scotland                        & NHS Ayrshire \\& Arran              & A111H                               & University Hospital Crosshouse - ED & ED                                  & 5414                                & 5414                                & 5290                                & 5290                                & 1985                                & 11                                  & 3374                                & 44                                  &  0                                  & 26                                  & 24                                  & 07                                 \\\\\n",
       "\t Jul-07                              & NHS Scotland                        & NHS Ayrshire \\& Arran              & A207H                               & Davidson Cottage Hospital           & MIU/Other                           &   92                                &   NA                                &   92                                &   NA                                &   NA                                & NA                                  &   NA                                & NA                                  & NA                                  & NA                                  & NA                                  & 07                                 \\\\\n",
       "\t Jul-07                              & NHS Scotland                        & NHS Ayrshire \\& Arran              & A210H                               & University Hospital Ayr - ED        & ED                                  & 3530                                & 3530                                & 3355                                & 3355                                &  106                                &  0                                  & 3369                                &  8                                  & 47                                  &  3                                  &  1                                  & 07                                 \\\\\n",
       "\t Jul-07                              & NHS Scotland                        & NHS Borders                         & B103H                               & Knoll Community Hospital            & MIU/Other                           &   20                                &   NA                                &   20                                &   NA                                &   NA                                & NA                                  &   NA                                & NA                                  & NA                                  & NA                                  & NA                                  & 07                                 \\\\\n",
       "\t Jul-07                              & NHS Scotland                        & NHS Borders                         & B105H                               & Hawick Community  Hospital          & MIU/Other                           &  105                                &   NA                                &  105                                &   NA                                &   NA                                & NA                                  &   NA                                & NA                                  & NA                                  & NA                                  & NA                                  & 07                                 \\\\\n",
       "\\end{tabular}\n"
      ],
      "text/markdown": [
       "\n",
       "| Data_Month_Date | Country | HB_Treatment_Description | Treatment_Location_Code | Treatment_Location_Name | ED_MIU | Number_Of_Attendances_agg | Number_of_Attendances_Epi | Number_Meeting_Target_agg | Number_Meeting_Target_epi | Discharge_destination_admission_to_same | Discharge_destination_other_spec | Discharge_destination_residence | Discharge_destination_transfer | Discharge_destination_unknown | Attendance_greater_8hrs | Attendances_greater_12hrs | Year |\n",
       "|---|---|---|---|---|---|---|---|---|---|---|---|---|---|---|---|---|---|\n",
       "| Jul-07                              | NHS Scotland                        | NHS Ayrshire & Arran                | A101H                               | Arran War Memorial Hospital         | MIU/Other                           |  252                                |   NA                                |  252                                |   NA                                |   NA                                | NA                                  |   NA                                | NA                                  | NA                                  | NA                                  | NA                                  | 07                                  |\n",
       "| Jul-07                              | NHS Scotland                        | NHS Ayrshire & Arran                | A111H                               | University Hospital Crosshouse - ED | ED                                  | 5414                                | 5414                                | 5290                                | 5290                                | 1985                                | 11                                  | 3374                                | 44                                  |  0                                  | 26                                  | 24                                  | 07                                  |\n",
       "| Jul-07                              | NHS Scotland                        | NHS Ayrshire & Arran                | A207H                               | Davidson Cottage Hospital           | MIU/Other                           |   92                                |   NA                                |   92                                |   NA                                |   NA                                | NA                                  |   NA                                | NA                                  | NA                                  | NA                                  | NA                                  | 07                                  |\n",
       "| Jul-07                              | NHS Scotland                        | NHS Ayrshire & Arran                | A210H                               | University Hospital Ayr - ED        | ED                                  | 3530                                | 3530                                | 3355                                | 3355                                |  106                                |  0                                  | 3369                                |  8                                  | 47                                  |  3                                  |  1                                  | 07                                  |\n",
       "| Jul-07                              | NHS Scotland                        | NHS Borders                         | B103H                               | Knoll Community Hospital            | MIU/Other                           |   20                                |   NA                                |   20                                |   NA                                |   NA                                | NA                                  |   NA                                | NA                                  | NA                                  | NA                                  | NA                                  | 07                                  |\n",
       "| Jul-07                              | NHS Scotland                        | NHS Borders                         | B105H                               | Hawick Community  Hospital          | MIU/Other                           |  105                                |   NA                                |  105                                |   NA                                |   NA                                | NA                                  |   NA                                | NA                                  | NA                                  | NA                                  | NA                                  | 07                                  |\n",
       "\n"
      ],
      "text/plain": [
       "  Data_Month_Date Country      HB_Treatment_Description Treatment_Location_Code\n",
       "1 Jul-07          NHS Scotland NHS Ayrshire & Arran     A101H                  \n",
       "2 Jul-07          NHS Scotland NHS Ayrshire & Arran     A111H                  \n",
       "3 Jul-07          NHS Scotland NHS Ayrshire & Arran     A207H                  \n",
       "4 Jul-07          NHS Scotland NHS Ayrshire & Arran     A210H                  \n",
       "5 Jul-07          NHS Scotland NHS Borders              B103H                  \n",
       "6 Jul-07          NHS Scotland NHS Borders              B105H                  \n",
       "  Treatment_Location_Name             ED_MIU    Number_Of_Attendances_agg\n",
       "1 Arran War Memorial Hospital         MIU/Other  252                     \n",
       "2 University Hospital Crosshouse - ED ED        5414                     \n",
       "3 Davidson Cottage Hospital           MIU/Other   92                     \n",
       "4 University Hospital Ayr - ED        ED        3530                     \n",
       "5 Knoll Community Hospital            MIU/Other   20                     \n",
       "6 Hawick Community  Hospital          MIU/Other  105                     \n",
       "  Number_of_Attendances_Epi Number_Meeting_Target_agg Number_Meeting_Target_epi\n",
       "1   NA                       252                        NA                     \n",
       "2 5414                      5290                      5290                     \n",
       "3   NA                        92                        NA                     \n",
       "4 3530                      3355                      3355                     \n",
       "5   NA                        20                        NA                     \n",
       "6   NA                       105                        NA                     \n",
       "  Discharge_destination_admission_to_same Discharge_destination_other_spec\n",
       "1   NA                                    NA                              \n",
       "2 1985                                    11                              \n",
       "3   NA                                    NA                              \n",
       "4  106                                     0                              \n",
       "5   NA                                    NA                              \n",
       "6   NA                                    NA                              \n",
       "  Discharge_destination_residence Discharge_destination_transfer\n",
       "1   NA                            NA                            \n",
       "2 3374                            44                            \n",
       "3   NA                            NA                            \n",
       "4 3369                             8                            \n",
       "5   NA                            NA                            \n",
       "6   NA                            NA                            \n",
       "  Discharge_destination_unknown Attendance_greater_8hrs\n",
       "1 NA                            NA                     \n",
       "2  0                            26                     \n",
       "3 NA                            NA                     \n",
       "4 47                             3                     \n",
       "5 NA                            NA                     \n",
       "6 NA                            NA                     \n",
       "  Attendances_greater_12hrs Year\n",
       "1 NA                        07  \n",
       "2 24                        07  \n",
       "3 NA                        07  \n",
       "4  1                        07  \n",
       "5 NA                        07  \n",
       "6 NA                        07  "
      ]
     },
     "metadata": {},
     "output_type": "display_data"
    }
   ],
   "source": [
    "head(hos_df)"
   ]
  }
 ],
 "metadata": {
  "kernelspec": {
   "display_name": "R",
   "language": "R",
   "name": "ir"
  },
  "language_info": {
   "codemirror_mode": "r",
   "file_extension": ".r",
   "mimetype": "text/x-r-source",
   "name": "R",
   "pygments_lexer": "r",
   "version": "3.6.1"
  }
 },
 "nbformat": 4,
 "nbformat_minor": 4
}
